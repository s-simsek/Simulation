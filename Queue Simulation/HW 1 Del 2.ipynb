{
 "cells": [
  {
   "cell_type": "code",
   "execution_count": 1,
   "metadata": {},
   "outputs": [],
   "source": [
    "import numpy as np"
   ]
  },
  {
   "cell_type": "markdown",
   "metadata": {},
   "source": [
    "##### *Creating a class that would make the calculations easier*"
   ]
  },
  {
   "cell_type": "code",
   "execution_count": 2,
   "metadata": {
    "pycharm": {
     "name": "#%%\n"
    }
   },
   "outputs": [],
   "source": [
    "class Process:\n",
    "    def __init__(self, lamb, duration, mu, arrival_times=None,\n",
    "                 service_times=None, number_of_customers=0):\n",
    "        \"\"\"\n",
    "        Args:\n",
    "            lamb:                 Parameter lambda of the poisson distribution\n",
    "            duration:             Duration of the poisson process (T)\n",
    "            mu:                   Parameter mu of the exponentially distributed service times\n",
    "            arrival_times:        Inter-arrival times of the customers\n",
    "            service_times:        Service times of the customers\n",
    "            number_of_customers:  Number of customers in the system\n",
    "        \"\"\"\n",
    "        self.lamb = lamb\n",
    "        self.duration = duration\n",
    "        self.mu = mu\n",
    "        self.number_of_customers = number_of_customers\n",
    "        self.service_times = service_times\n",
    "        self.arrival_times = arrival_times\n",
    "        self.arrivals_services()\n",
    "        \n",
    "    def arrivals_services(self):\n",
    "        random_number = int(np.random.poisson(self.lamb * self.duration  * 1.3))\n",
    "        inter_arrivals = np.random.exponential(1/self.lamb, size = random_number)\n",
    "        arrival_times = np.cumsum(inter_arrivals)\n",
    "        self.arrival_times = list(arrival_times[arrival_times <= self.duration])\n",
    "        self.number_of_customers = len(self.arrival_times)\n",
    "        self.service_times = list(np.random.exponential(self.mu, size=self.number_of_customers))\n",
    "    \n",
    "    def simulate_mmk(self, k: int) -> list:\n",
    "        \"\"\"\n",
    "        Calculates the waiting time for M/M/k Queue\n",
    "        Args:\n",
    "            k: the number of servers available\n",
    "        \"\"\"\n",
    "        assert len(self.arrival_times) == len(self.service_times) #Just to make sure\n",
    "        \n",
    "        waiting_times = []\n",
    "        next_idle_times =  np.zeros(k)\n",
    "        for i in range(self.number_of_customers):\n",
    "            earliest_finish_time = min(next_idle_times)\n",
    "            index_server = np.argmin(next_idle_times)\n",
    "            new_start_time = max(earliest_finish_time, self.arrival_times[i])\n",
    "            new_wait_time = max(0, new_start_time - self.arrival_times[i])\n",
    "            new_finish_time = new_start_time + self.service_times[i]\n",
    "            next_idle_times[index_server] = new_finish_time\n",
    "            waiting_times.append(new_wait_time)\n",
    "        return waiting_times\n",
    "        \n",
    "    def calculate_mean_waiting(self, waiting: list, limit: list):\n",
    "        \"\"\"\n",
    "        Args:\n",
    "            waiting: waiting times of the customers\n",
    "            limit: 2 element list. First element is the start and second element is the end of the interval\n",
    "\n",
    "        Returns: Mean waiting time for the given interval by 'limit'\n",
    "        \"\"\"\n",
    "        corresponding_waiting_times = self.get_waiting_times(waiting, limit)\n",
    "        return np.mean(corresponding_waiting_times)\n",
    "\n",
    "    def get_waiting_times(self, waiting: list, limit=None):\n",
    "        \"\"\"\n",
    "        Args:\n",
    "            waiting: waiting times of the customers\n",
    "            limit: 2 element list. First element is the start and second element is the end of the interval\n",
    "\n",
    "        Returns: The waiting times for the given limit.\n",
    "                    If limit=None, Then all waiting times are returned for the duration T\n",
    "        \"\"\"\n",
    "        if limit is None:\n",
    "            lower_bound = 0\n",
    "            upper_bound = self.duration\n",
    "        else:\n",
    "            lower_bound = limit[0]\n",
    "            upper_bound = limit[1]\n",
    "        interval = [num for num in self.arrival_times if lower_bound <= num <= upper_bound]\n",
    "        lower_index= self.arrival_times.index(interval[0])\n",
    "        upper_index = self.arrival_times.index(interval[len(interval) - 1])\n",
    "        desired_waiting_times = waiting[lower_index:upper_index+1]\n",
    "        return desired_waiting_times\n",
    "\n",
    "    def get_arrival_times(self, limit=None):\n",
    "        \"\"\"\n",
    "        Args:\n",
    "            limit: 2 element list. First element is the start and second element is the end of the interval\n",
    "\n",
    "        Returns: Arrival times for customers in the given interval\n",
    "        \"\"\"\n",
    "        if limit is None:\n",
    "            lower_bound = 0\n",
    "            upper_bound = self.duration\n",
    "        else:\n",
    "            lower_bound = limit[0]\n",
    "            upper_bound = limit[1]\n",
    "        interval = [num for num in self.arrival_times if lower_bound <= num <= upper_bound]\n",
    "        return interval\n"
   ]
  },
  {
   "cell_type": "markdown",
   "metadata": {
    "pycharm": {
     "name": "#%% md\n"
    }
   },
   "source": [
    "##### *Setting up the right parameters for the simulation*\n",
    "\n",
    "$\\lambda = 2$ customer per minute\n",
    "\n",
    "$ E[S_i] = 35 $ seconds $= \\dfrac{7}{12}$ minutes\n",
    "\n",
    "Duration = $120$ minutes\n",
    "\n",
    "##### *Question i)*"
   ]
  },
  {
   "cell_type": "code",
   "execution_count": 3,
   "metadata": {},
   "outputs": [],
   "source": [
    "n = 50"
   ]
  },
  {
   "cell_type": "code",
   "execution_count": 4,
   "metadata": {
    "pycharm": {
     "name": "#%%\n"
    }
   },
   "outputs": [
    {
     "data": {
      "text/plain": [
       "5.955433590961307"
      ]
     },
     "execution_count": 4,
     "metadata": {},
     "output_type": "execute_result"
    }
   ],
   "source": [
    "means = []\n",
    "for i in range(n):\n",
    "    food_truck = Process(lamb=2, duration=120, mu=7/12)\n",
    "    waitings = food_truck.simulate_mmk(k=1)\n",
    "    mean = food_truck.calculate_mean_waiting(waitings, [15,30]) #11:15-11:30am corresponds to 15-30m if we take 11am as 0m.\n",
    "    means.append(mean)\n",
    "np.mean(means)"
   ]
  },
  {
   "cell_type": "markdown",
   "metadata": {
    "pycharm": {
     "name": "#%% md\n"
    }
   },
   "source": [
    "##### *Question ii)*"
   ]
  },
  {
   "cell_type": "code",
   "execution_count": 5,
   "metadata": {
    "pycharm": {
     "name": "#%%\n"
    }
   },
   "outputs": [
    {
     "data": {
      "text/plain": [
       "21.545003883619597"
      ]
     },
     "execution_count": 5,
     "metadata": {},
     "output_type": "execute_result"
    }
   ],
   "source": [
    "means = []\n",
    "for i in range(n):\n",
    "    food_truck = Process(lamb=2, duration=120, mu=7/12)\n",
    "    waitings = food_truck.simulate_mmk(k=1)\n",
    "    mean = food_truck.calculate_mean_waiting(waitings, [105, 120]) #12:45-1:00pm corresponds to 105-120m if we take 11am as 0m.\n",
    "    means.append(mean)\n",
    "np.mean(means)"
   ]
  },
  {
   "cell_type": "markdown",
   "metadata": {
    "pycharm": {
     "name": "#%% md\n"
    }
   },
   "source": [
    "##### *Question iii)*"
   ]
  },
  {
   "cell_type": "markdown",
   "metadata": {
    "pycharm": {
     "name": "#%% md\n"
    },
    "scrolled": false
   },
   "source": [
    "The average waiting time for customers who arrive at food truck from 12:45 PM to 1:00 PM is larger than\n",
    "the average waiting time for customers who arrive at food truck from 11:15 AM to 11:30 AM. We found this logical\n",
    "and intuitive since the rate of serving customers is 1 in 35 seconds. On the other hand, the rate of customers coming to the\n",
    "food truck is 1 in 30 seconds. Because of the fact that the rate of serving customers is higher than the rate of\n",
    "customer arrivals, customers will be accumulated in the queue by the time. Therefore, in later hours, average\n",
    "waiting time would be higher as compare to average waiting time in the early service starting times.\n"
   ]
  },
  {
   "cell_type": "markdown",
   "metadata": {
    "pycharm": {
     "name": "#%% md\n"
    }
   },
   "source": [
    "##### *Question iv)*"
   ]
  },
  {
   "cell_type": "code",
   "execution_count": 6,
   "metadata": {
    "pycharm": {
     "name": "#%%\n"
    }
   },
   "outputs": [
    {
     "name": "stdout",
     "output_type": "stream",
     "text": [
      "Out of 50 trials, \n",
      "The percentage of people waiting more than 3 minutes between 11:15 AM and 11:30 AM is approximately 67.72%\n",
      "While the percentage of people waiting more than 3 minutes between 12:45 PM and 1:00 PM is approximately 96.0%\n"
     ]
    }
   ],
   "source": [
    "values=[]\n",
    "n = 50\n",
    "for i in range(n):\n",
    "    food_truck = Process(lamb=2, duration=120, mu=7/12)\n",
    "    waitings = food_truck.simulate_mmk(1)\n",
    "    desired_interval = food_truck.get_waiting_times(waitings, limit=[15,30])\n",
    "    actual_length = len(desired_interval)\n",
    "    impatience_length = len([num for num in desired_interval if num > 3])\n",
    "    percentage = (100*impatience_length) / actual_length\n",
    "    values.append(percentage)\n",
    "first = np.mean(values)\n",
    "\n",
    "values=[]\n",
    "for i in range(n):\n",
    "    food_truck = Process(lamb=2, duration=120, mu=7/12)\n",
    "    waitings = food_truck.simulate_mmk(1)\n",
    "    desired_interval = food_truck.get_waiting_times(waitings, limit=[105,120])\n",
    "    actual_length = len(desired_interval)\n",
    "    impatience_length = len([num for num in desired_interval if num > 3])\n",
    "    percentage = (100*impatience_length) / actual_length\n",
    "    values.append(percentage)\n",
    "second = np.mean(values)\n",
    "\n",
    "print('Out of {} trials, '.format(n))\n",
    "print('The percentage of people waiting more than 3 minutes between 11:15 AM and 11:30 AM is approximately {}%'.format(\n",
    "    np.round(first, 2)))\n",
    "print('While the percentage of people waiting more than 3 minutes between 12:45 PM and 1:00 PM is approximately {}%'.format(\n",
    "    np.round(second, 2)))"
   ]
  },
  {
   "cell_type": "markdown",
   "metadata": {
    "pycharm": {
     "name": "#%% md\n"
    }
   },
   "source": [
    "##### *Question v)*"
   ]
  },
  {
   "cell_type": "code",
   "execution_count": 7,
   "metadata": {
    "pycharm": {
     "name": "#%%\n"
    }
   },
   "outputs": [
    {
     "name": "stdout",
     "output_type": "stream",
     "text": [
      "The percentage of the customers who would leave the system is approximately 92.0%.\n",
      "The mean waiting time for the customers who stayed on the queue is approximately 11.27 minutes.\n"
     ]
    }
   ],
   "source": [
    "percentages = []\n",
    "average_waitings = []\n",
    "\n",
    "for i in range(n):\n",
    "    system = Process(2,120,7/12)\n",
    "    system_waitings = system.simulate_mmk(1)\n",
    "    arrivals_times = system.get_arrival_times(limit=[105,120])\n",
    "\n",
    "    customers_left = 0\n",
    "    customer_in_the_interval = len(arrivals_times)\n",
    "\n",
    "    for time in arrivals_times:\n",
    "        index = system.arrival_times.index(time)\n",
    "        arrivals_before = system.arrival_times[:index]\n",
    "        waiting_before = system_waitings[:index]\n",
    "        services_before = system.service_times[:index]\n",
    "        customers_in_queue = 0\n",
    "\n",
    "        for j in range(index):\n",
    "            arrival_time_j = arrivals_before[j]\n",
    "            waiting_time_j = waiting_before[j]\n",
    "            service_start_time = arrival_time_j + waiting_time_j\n",
    "            if service_start_time >= time:\n",
    "                customers_in_queue += 1\n",
    "\n",
    "        if customers_in_queue >= 4:\n",
    "            customers_left += 1\n",
    "            del system.arrival_times[index]\n",
    "            del system.service_times[index]\n",
    "            del system_waitings[index]\n",
    "\n",
    "    perc = customers_left/customer_in_the_interval*100\n",
    "    percentages.append(perc)\n",
    "\n",
    "    interval = [num for num in system.arrival_times if 105 <= num <= 120]\n",
    "    if len(interval) == 0:\n",
    "        continue\n",
    "    else:\n",
    "        lower_index= system.arrival_times.index(interval[0])\n",
    "        upper_index = system.arrival_times.index(interval[len(interval) - 1])\n",
    "        desired_waiting_times = system_waitings[lower_index:upper_index+1]\n",
    "        mean_waiting = np.mean(desired_waiting_times)\n",
    "        average_waitings.append(mean_waiting)\n",
    "\n",
    "np.mean(percentages), perc\n",
    "print('The percentage of the customers who would leave the system is approximately {}%.'.format(\n",
    "    np.round(np.mean(percentages))))\n",
    "print('The mean waiting time for the customers who stayed on the queue is approximately {} minutes.'.format(\n",
    "    np.round(np.mean(average_waitings),2)))"
   ]
  },
  {
   "cell_type": "markdown",
   "metadata": {
    "pycharm": {
     "name": "#%% md\n"
    }
   },
   "source": [
    "##### *Question vi)*"
   ]
  },
  {
   "cell_type": "code",
   "execution_count": 8,
   "metadata": {},
   "outputs": [
    {
     "data": {
      "text/plain": [
       "3.6165649021645754"
      ]
     },
     "execution_count": 8,
     "metadata": {},
     "output_type": "execute_result"
    }
   ],
   "source": [
    "#i)\n",
    "\n",
    "means = []\n",
    "for i in range(n):\n",
    "    food_truck = Process(lamb=2, duration=120, mu=1/2)\n",
    "    waitings = food_truck.simulate_mmk(1)\n",
    "    mean = food_truck.calculate_mean_waiting(waitings, [15,30]) #11:15-11:30am corresponds to 15-30m if we take 11am as 0m.\n",
    "    means.append(mean)\n",
    "np.mean(means)"
   ]
  },
  {
   "cell_type": "code",
   "execution_count": 9,
   "metadata": {
    "pycharm": {
     "name": "#%%\n"
    }
   },
   "outputs": [
    {
     "data": {
      "text/plain": [
       "8.354224311202154"
      ]
     },
     "execution_count": 9,
     "metadata": {},
     "output_type": "execute_result"
    }
   ],
   "source": [
    "#ii)\n",
    "\n",
    "means = []\n",
    "for i in range(n):\n",
    "    food_truck = Process(lamb=2, duration=120, mu=1/2)\n",
    "    waitings = food_truck.simulate_mmk(1)\n",
    "    mean = food_truck.calculate_mean_waiting(waitings, [105, 120]) #12:45-1:00pm corresponds to 105-120m if we take 11am as 0m.\n",
    "    means.append(mean)\n",
    "np.mean(means)"
   ]
  },
  {
   "cell_type": "markdown",
   "metadata": {
    "pycharm": {
     "name": "#%% md\n"
    }
   },
   "source": [
    "###### iii)\n",
    "\n",
    "The difference between average waiting time for both intervals is less than the previous version of the question where the average time for a serving was 35 seconds. This happens because, now, the expected serving time of a customer is 1 in 30 seconds, which is exactly equal to the inter-arrival rate of the customers. Therefore, it is logical that these two values in different intervals are more close to each other."
   ]
  },
  {
   "cell_type": "code",
   "execution_count": 10,
   "metadata": {
    "pycharm": {
     "name": "#%%\n"
    }
   },
   "outputs": [
    {
     "name": "stdout",
     "output_type": "stream",
     "text": [
      "Out of 50 trials, \n",
      "The percentage of people waiting more than 3 minutes between 11:15 AM and 11:30 AM is approximately 41.41%\n",
      "While the percentage of people waiting more than 3 minutes between 12:45 PM and 1:00 PM is approximately 70.99%\n"
     ]
    }
   ],
   "source": [
    "#iv)\n",
    "\n",
    "values=[]\n",
    "for i in range(n):\n",
    "    food_truck = Process(lamb=2, duration=120, mu=1/2)\n",
    "    waitings = food_truck.simulate_mmk(1)\n",
    "    desired_interval = food_truck.get_waiting_times(waitings, limit=[15,30])\n",
    "    actual_length = len(desired_interval)\n",
    "    impatience_length = len([num for num in desired_interval if num > 3])\n",
    "    percentage = (100*impatience_length) / actual_length\n",
    "    values.append(percentage)\n",
    "first = np.mean(values)\n",
    "\n",
    "values=[]\n",
    "for i in range(n):\n",
    "    food_truck = Process(lamb=2, duration=120, mu=1/2)\n",
    "    waitings = food_truck.simulate_mmk(1)\n",
    "    desired_interval = food_truck.get_waiting_times(waitings, limit=[105,120])\n",
    "    actual_length = len(desired_interval)\n",
    "    impatience_length = len([num for num in desired_interval if num > 3])\n",
    "    percentage = (100*impatience_length) / actual_length\n",
    "    values.append(percentage)\n",
    "second = np.mean(values)\n",
    "\n",
    "print('Out of {} trials, '.format(n))\n",
    "print('The percentage of people waiting more than 3 minutes between 11:15 AM and 11:30 AM is approximately {}%'.format(\n",
    "    np.round(first, 2)))\n",
    "print('While the percentage of people waiting more than 3 minutes between 12:45 PM and 1:00 PM is approximately {}%'.format(\n",
    "    np.round(second, 2)))"
   ]
  },
  {
   "cell_type": "code",
   "execution_count": 13,
   "metadata": {
    "pycharm": {
     "name": "#%%\n"
    }
   },
   "outputs": [
    {
     "name": "stdout",
     "output_type": "stream",
     "text": [
      "The percentage of the customers who would leave the system is approximately 63.0%.\n",
      "The mean waiting time for the customers who stayed on the queue is approximately 6.24 minutes.\n"
     ]
    }
   ],
   "source": [
    "#v)\n",
    "\n",
    "percentages = []\n",
    "average_waitings = []\n",
    "\n",
    "for i in range(n):\n",
    "    system = Process(2,120,1/2)\n",
    "    system_waitings = system.simulate_mmk(1)\n",
    "    arrivals_times = system.get_arrival_times(limit=[105,120])\n",
    "\n",
    "    customers_left = 0\n",
    "    customer_in_the_interval = len(arrivals_times)\n",
    "\n",
    "    for time in arrivals_times:\n",
    "        index = system.arrival_times.index(time)\n",
    "        arrivals_before = system.arrival_times[:index]\n",
    "        waiting_before = system_waitings[:index]\n",
    "        services_before = system.service_times[:index]\n",
    "        customers_in_queue = 0\n",
    "\n",
    "        for j in range(index):\n",
    "            arrival_time_j = arrivals_before[j]\n",
    "            waiting_time_j = waiting_before[j]\n",
    "            service_start_time = arrival_time_j + waiting_time_j\n",
    "            if service_start_time >= time:\n",
    "                customers_in_queue += 1\n",
    "\n",
    "        if customers_in_queue >= 4:\n",
    "            customers_left += 1\n",
    "            del system.arrival_times[index]\n",
    "            del system.service_times[index]\n",
    "            del system_waitings[index]\n",
    "\n",
    "    perc = customers_left/customer_in_the_interval*100\n",
    "    percentages.append(perc)\n",
    "\n",
    "    interval = [num for num in system.arrival_times if 105 <= num <= 120]\n",
    "    if len(interval) == 0:\n",
    "        continue\n",
    "    else:\n",
    "        lower_index= system.arrival_times.index(interval[0])\n",
    "        upper_index = system.arrival_times.index(interval[len(interval) - 1])\n",
    "        desired_waiting_times = system_waitings[lower_index:upper_index+1]\n",
    "        mean_waiting = np.mean(desired_waiting_times)\n",
    "        average_waitings.append(mean_waiting)\n",
    "\n",
    "np.mean(percentages), perc\n",
    "print('The percentage of the customers who would leave the system is approximately {}%.'.format(\n",
    "    np.round(np.mean(percentages))))\n",
    "print('The mean waiting time for the customers who stayed on the queue is approximately {} minutes.'.format(\n",
    "    np.round(np.mean(average_waitings),2)))"
   ]
  }
 ],
 "metadata": {
  "kernelspec": {
   "display_name": "Python 3",
   "language": "python",
   "name": "python3"
  },
  "language_info": {
   "codemirror_mode": {
    "name": "ipython",
    "version": 3
   },
   "file_extension": ".py",
   "mimetype": "text/x-python",
   "name": "python",
   "nbconvert_exporter": "python",
   "pygments_lexer": "ipython3",
   "version": "3.8.3"
  }
 },
 "nbformat": 4,
 "nbformat_minor": 4
}
