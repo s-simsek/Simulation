{
 "cells": [
  {
   "cell_type": "code",
   "execution_count": 1,
   "metadata": {},
   "outputs": [],
   "source": [
    "import numpy as np\n",
    "import matplotlib.pyplot as plt\n",
    "import pandas as pd\n",
    "import math\n",
    "from statistics import variance"
   ]
  },
  {
   "cell_type": "markdown",
   "metadata": {},
   "source": [
    "### *Question 1*"
   ]
  },
  {
   "cell_type": "code",
   "execution_count": 3,
   "metadata": {},
   "outputs": [],
   "source": [
    "rank = list(range(1,14)) \n",
    "suits = ['spades', 'hearts', 'clubs', 'diamonds']\n",
    "card_deck = []\n",
    "for r in rank:\n",
    "    for suit in suits:\n",
    "        card_deck.append({'rank':r, 'suit':suit})"
   ]
  },
  {
   "cell_type": "code",
   "execution_count": 4,
   "metadata": {},
   "outputs": [],
   "source": [
    "#Inspired from the discussion #2 notebook\n",
    "def straight_verification(cards):\n",
    "    \"\"\"cards as a list of dictionaries\"\"\"\n",
    "    selected_rank = [x['rank'] for x in cards]\n",
    "    selected_suit = [x['suit'] for x in cards]\n",
    "    same_suit = len(np.unique(selected_suit)) == 1\n",
    "    sequential_rank = ((max(selected_rank) - min(selected_rank)) == 4) and (len(np.unique(selected_rank))==5)\n",
    "    return sequential_rank and not same_suit\n",
    "\n",
    "def deal(deck):\n",
    "    return np.random.choice(deck, 5, replace=False)"
   ]
  },
  {
   "cell_type": "code",
   "execution_count": 6,
   "metadata": {},
   "outputs": [
    {
     "data": {
      "text/html": [
       "<div>\n",
       "<style scoped>\n",
       "    .dataframe tbody tr th:only-of-type {\n",
       "        vertical-align: middle;\n",
       "    }\n",
       "\n",
       "    .dataframe tbody tr th {\n",
       "        vertical-align: top;\n",
       "    }\n",
       "\n",
       "    .dataframe thead th {\n",
       "        text-align: right;\n",
       "    }\n",
       "</style>\n",
       "<table border=\"1\" class=\"dataframe\">\n",
       "  <thead>\n",
       "    <tr style=\"text-align: right;\">\n",
       "      <th></th>\n",
       "      <th>sample size</th>\n",
       "      <th>probability</th>\n",
       "    </tr>\n",
       "  </thead>\n",
       "  <tbody>\n",
       "    <tr>\n",
       "      <th>0</th>\n",
       "      <td>1000</td>\n",
       "      <td>0.00200</td>\n",
       "    </tr>\n",
       "    <tr>\n",
       "      <th>1</th>\n",
       "      <td>10000</td>\n",
       "      <td>0.00300</td>\n",
       "    </tr>\n",
       "    <tr>\n",
       "      <th>2</th>\n",
       "      <td>100000</td>\n",
       "      <td>0.00383</td>\n",
       "    </tr>\n",
       "  </tbody>\n",
       "</table>\n",
       "</div>"
      ],
      "text/plain": [
       "   sample size  probability\n",
       "0         1000      0.00200\n",
       "1        10000      0.00300\n",
       "2       100000      0.00383"
      ]
     },
     "execution_count": 6,
     "metadata": {},
     "output_type": "execute_result"
    }
   ],
   "source": [
    "def simulate(sample_size, deck):\n",
    "    outcome_straight = 0\n",
    "    for i in range(sample_size):\n",
    "        sample_deck = deal(deck)\n",
    "        if straight_verification(sample_deck):\n",
    "            outcome_straight += 1\n",
    "        sample_prob = outcome_straight / sample_size\n",
    "    return [sample_size, outcome_straight, sample_prob]\n",
    "\n",
    "probabilities = []\n",
    "sample_sizes = [1000, 10000, 100000]\n",
    "for i in sample_sizes:\n",
    "    probabilities.append(simulate(i, card_deck)[2])\n",
    "    \n",
    "pd.DataFrame(list(zip(sample_sizes, probabilities)), columns=['sample size', 'probability'])"
   ]
  },
  {
   "cell_type": "markdown",
   "metadata": {},
   "source": [
    "As you can observe from the table, with increasing sample size, the experimental probability is converging towards the real probability of 0.39%. This real probability can be calculated with combinatorics. We anticipate that in order to achieve an accuracy up to level 0.0001, if our computing power allows, the number of copies of simulation needed is $10^8$."
   ]
  },
  {
   "cell_type": "markdown",
   "metadata": {},
   "source": [
    "### *Question 2*\n",
    "#### *Part a)* *i)*"
   ]
  },
  {
   "cell_type": "code",
   "execution_count": 9,
   "metadata": {},
   "outputs": [
    {
     "name": "stdout",
     "output_type": "stream",
     "text": [
      "Average number of customers in 10 minutes is 19.56\n",
      "Arrivals will happen in 8.111000190850739 minutes, which is less than 10, as desired\n",
      "The sample variance is 15.501414141414141\n"
     ]
    }
   ],
   "source": [
    "\n",
    "def fn(lambda_val, sample_size):\n",
    "    number_arrivals = [] #list to count number of arrivals between 11:55 AM - 12:05 PM\n",
    "    interval_times = [] #list to count the time between n and n+1 customers\n",
    "    for a in range(sample_size): #simulating random variables of number of customers 100 times\n",
    "    \n",
    "        current_arrivals = 0\n",
    "        current_time = 0\n",
    "\n",
    "        while current_time <= 10:\n",
    "\n",
    "            time_next = np.random.exponential(1/lambda_val)\n",
    "            interval_times = np.append(interval_times, time_next)\n",
    "            current_time += time_next\n",
    "\n",
    "            if current_time <= 10:\n",
    "                current_arrivals += 1\n",
    "\n",
    "            else:\n",
    "                current_time = current_time - time_next\n",
    "                interval_times = interval_times[0:-1]\n",
    "                break\n",
    "\n",
    "        number_arrivals = np.append(number_arrivals, current_arrivals)\n",
    "    \n",
    "    avg_sample = np.mean(number_arrivals)\n",
    "    \n",
    "    return avg_sample, current_time, number_arrivals, interval_times\n",
    "\n",
    "answer = fn(2,100)\n",
    "print('Average number of customers in 10 minutes is {}'.format(answer[0]))\n",
    "print('Arrivals will happen in {} minutes, which is less than 10, as desired'.format(answer[1]))\n",
    "print('The sample variance is {}'.format(variance(answer[2])))"
   ]
  },
  {
   "cell_type": "markdown",
   "metadata": {},
   "source": [
    "#### *Part a)* *ii)*"
   ]
  },
  {
   "cell_type": "code",
   "execution_count": 10,
   "metadata": {},
   "outputs": [
    {
     "data": {
      "image/png": "[encoded data removed]",
      "text/plain": [
       "<Figure size 432x288 with 1 Axes>"
      ]
     },
     "metadata": {
      "needs_background": "light"
     },
     "output_type": "display_data"
    }
   ],
   "source": [
    "plt.hist(answer[2])\n",
    "plt.title(\"Histogram for all Ei's\")\n",
    "plt.show;"
   ]
  },
  {
   "cell_type": "markdown",
   "metadata": {},
   "source": [
    "#### *Part a)* *iii)*"
   ]
  },
  {
   "cell_type": "code",
   "execution_count": 11,
   "metadata": {},
   "outputs": [
    {
     "name": "stdout",
     "output_type": "stream",
     "text": [
      "Number of interval times recorded from the simulation is 1956\n",
      "From 100 day simulation, the percentage of inter-arrival times that are longer than 1 minute is 0.12372188139059305\n",
      "Whereas e to the power of -2 is equal to 0.1353352832366127\n"
     ]
    }
   ],
   "source": [
    "length = len(answer[3])\n",
    "print('Number of interval times recorded from the simulation is {}'.format(length))\n",
    "perc = (sum(answer[3] > 1 )) / length\n",
    "print('From 100 day simulation, the percentage of inter-arrival times that are longer than 1 minute is {}'.format(perc))\n",
    "print('Whereas e to the power of -2 is equal to {}'.format(np.exp(-2)))"
   ]
  },
  {
   "cell_type": "markdown",
   "metadata": {},
   "source": [
    "#### *Part a)* *vi)*"
   ]
  },
  {
   "cell_type": "code",
   "execution_count": 13,
   "metadata": {},
   "outputs": [
    {
     "name": "stdout",
     "output_type": "stream",
     "text": [
      "E_1 is equal to 21\n"
     ]
    },
    {
     "data": {
      "image/png": "[encoded data removed]",
      "text/plain": [
       "<Figure size 432x288 with 1 Axes>"
      ]
     },
     "metadata": {
      "needs_background": "light"
     },
     "output_type": "display_data"
    }
   ],
   "source": [
    "E_1 = int(answer[2][0]) #generating E_1 RV\n",
    "print('E_1 is equal to {}'.format(E_1))\n",
    "\n",
    "pdf_hw = lambda x: 2*x #generating PDF for X^2\n",
    "figure = np.linspace(-10,20,100) #plotting PDF for X^2\n",
    "plt.plot(figure, [pdf_hw(x) for x in figure])\n",
    "plt.title('PDF for X^2')\n",
    "plt.show();"
   ]
  },
  {
   "cell_type": "code",
   "execution_count": 14,
   "metadata": {},
   "outputs": [
    {
     "data": {
      "image/png": "[encoded data removed]",
      "text/plain": [
       "<Figure size 432x288 with 1 Axes>"
      ]
     },
     "metadata": {
      "needs_background": "light"
     },
     "output_type": "display_data"
    }
   ],
   "source": [
    "cdf_hw = lambda x: x**2 #generating CDF for X^2\n",
    "\n",
    "figure = np.linspace(-10,20,100) #plotting PDF for X^2\n",
    "plt.plot(figure, [cdf_hw(x) for x in figure])\n",
    "plt.title('CDF for X^2')\n",
    "plt.show();"
   ]
  },
  {
   "cell_type": "code",
   "execution_count": 15,
   "metadata": {},
   "outputs": [
    {
     "name": "stderr",
     "output_type": "stream",
     "text": [
      "<ipython-input-15-bf71151643bb>:1: RuntimeWarning: invalid value encountered in double_scalars\n",
      "  cdf_inverted = lambda x: (x)**(1/2) #generating inverted version of the CDF\n"
     ]
    },
    {
     "data": {
      "image/png": "[encoded data removed]",
      "text/plain": [
       "<Figure size 432x288 with 1 Axes>"
      ]
     },
     "metadata": {
      "needs_background": "light"
     },
     "output_type": "display_data"
    }
   ],
   "source": [
    "cdf_inverted = lambda x: (x)**(1/2) #generating inverted version of the CDF\n",
    "figure = np.linspace(-0.5,1.5,100) #plotting inverted CDF for X^2\n",
    "plt.plot(figure, [cdf_inverted(x) for x in figure])\n",
    "plt.title('Inverted CDF for X^2')\n",
    "plt.show();"
   ]
  },
  {
   "cell_type": "code",
   "execution_count": 16,
   "metadata": {},
   "outputs": [],
   "source": [
    "size_e1 = E_1"
   ]
  },
  {
   "cell_type": "code",
   "execution_count": 17,
   "metadata": {},
   "outputs": [
    {
     "name": "stdout",
     "output_type": "stream",
     "text": [
      "[0.24952476 0.59230185 0.35509154 0.88688357 0.72826463 0.9883393\n",
      " 0.89749788 0.67401072 0.54402731 0.54310767 0.65037883 0.93186961\n",
      " 0.59338182 0.51815086 0.70721101 0.23461318 0.28975063 0.6295746\n",
      " 0.66411731 0.73422588 0.77583514]\n"
     ]
    }
   ],
   "source": [
    "U_values = np.random.uniform(size=size_e1)\n",
    "print(U_values)"
   ]
  },
  {
   "cell_type": "code",
   "execution_count": 20,
   "metadata": {},
   "outputs": [
    {
     "name": "stdout",
     "output_type": "stream",
     "text": [
      "[0.49952453 0.76961149 0.59589557 0.94174496 0.85338422 0.99415255\n",
      " 0.94736365 0.82098156 0.73758207 0.73695839 0.80646068 0.96533394\n",
      " 0.77031281 0.71982697 0.84095839 0.48436885 0.53828489 0.79345737\n",
      " 0.81493393 0.85686981 0.88081504]\n"
     ]
    }
   ],
   "source": [
    "randomv_list = np.zeros(size_e1)\n",
    "for i in range(size_e1):\n",
    "    randomv_list[i] = cdf_inverted(U_values[i])\n",
    "print(randomv_list)"
   ]
  },
  {
   "cell_type": "code",
   "execution_count": 21,
   "metadata": {},
   "outputs": [
    {
     "name": "stdout",
     "output_type": "stream",
     "text": [
      "a value: 0.7794676995261514\n",
      "Sigma value: 0.1429602541302086\n"
     ]
    }
   ],
   "source": [
    "a_value = np.mean(randomv_list)\n",
    "print(\"a value: \" + str(a_value))\n",
    "\n",
    "sigma_value = np.std(randomv_list)\n",
    "print(\"Sigma value: \" + str(sigma_value))"
   ]
  },
  {
   "cell_type": "code",
   "execution_count": 23,
   "metadata": {},
   "outputs": [
    {
     "data": {
      "text/plain": [
       "0.6666666666666666"
      ]
     },
     "execution_count": 23,
     "metadata": {},
     "output_type": "execute_result"
    }
   ],
   "source": [
    "sum(randomv_list < a_value + (2 * sigma_value) / (E_1**(1/2)))/ E_1"
   ]
  },
  {
   "cell_type": "code",
   "execution_count": 25,
   "metadata": {},
   "outputs": [
    {
     "name": "stdout",
     "output_type": "stream",
     "text": [
      "0.98\n"
     ]
    }
   ],
   "source": [
    "x = []\n",
    "for a in range(100):\n",
    "    x=np.append(x,((np.random.normal(a_value, sigma_value / (E_1**(1/2)))) - a_value) * (E_1**(1/2))/sigma_value)\n",
    "print(sum(x<2) / len(x))"
   ]
  }
 ],
 "metadata": {
  "kernelspec": {
   "display_name": "Python 3",
   "language": "python",
   "name": "python3"
  },
  "language_info": {
   "codemirror_mode": {
    "name": "ipython",
    "version": 3
   },
   "file_extension": ".py",
   "mimetype": "text/x-python",
   "name": "python",
   "nbconvert_exporter": "python",
   "pygments_lexer": "ipython3",
   "version": "3.8.3"
  }
 },
 "nbformat": 4,
 "nbformat_minor": 4
}
