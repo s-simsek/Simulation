{
 "cells": [
  {
   "cell_type": "code",
   "execution_count": 2,
   "metadata": {},
   "outputs": [],
   "source": [
    "import numpy as np\n",
    "import pandas as pd\n",
    "import matplotlib.pyplot as plt\n",
    "import seaborn as sns\n",
    "sns.set()"
   ]
  },
  {
   "cell_type": "markdown",
   "metadata": {},
   "source": [
    "### *Defining Useful Classes for Future Simulations*"
   ]
  },
  {
   "cell_type": "code",
   "execution_count": 204,
   "metadata": {
    "pycharm": {
     "name": "#%%\n"
    }
   },
   "outputs": [],
   "source": [
    "class PoissonProcess:\n",
    "    \n",
    "    def __init__(self, lamb, duration, mu):\n",
    "        \"\"\"\n",
    "        Args:\n",
    "            lamb:                 Parameter lambda of the poisson distribution\n",
    "            duration:             Duration of the poisson process (T)\n",
    "            mu:                   Parameter mu of the exponentially distributed service times\n",
    "            arrival_times:        Inter-arrival times of the customers\n",
    "            service_times:        Service times of the customers\n",
    "            number_of_customers:  Number of customers in the system\n",
    "        \"\"\"\n",
    "        self.lamb = lamb\n",
    "        self.duration = duration\n",
    "        self.mu = mu\n",
    "        self.arrivals_services()\n",
    "\n",
    "    def arrivals_services(self):\n",
    "        random_number = int(np.random.poisson(self.lamb * self.duration * 1.3))\n",
    "        inter_arrivals = np.random.exponential(1 / self.lamb, size=random_number)\n",
    "        arrival_times = np.cumsum(inter_arrivals)\n",
    "        self.arrival_times = list(arrival_times[arrival_times <= self.duration])\n",
    "        self.number_of_customers = len(self.arrival_times)\n",
    "        self.service_times = list(np.random.exponential(self.mu, size=self.number_of_customers))\n",
    "\n",
    "    def simulate_mmk(self, k: int) -> list:\n",
    "        \"\"\"\n",
    "        Calculates the waiting time for M/M/k Queue\n",
    "        Args:\n",
    "            k: the number of servers available\n",
    "        \n",
    "        Returns: The waiting times of the customers in the system\n",
    "        \"\"\"\n",
    "        assert len(self.arrival_times) == len(self.service_times)  # Just to make sure\n",
    "\n",
    "        waiting_times = []\n",
    "        next_idle_times = np.zeros(k)\n",
    "        for i in range(self.number_of_customers):\n",
    "            earliest_finish_time = min(next_idle_times)\n",
    "            index_server = np.argmin(next_idle_times)\n",
    "            new_start_time = max(earliest_finish_time, self.arrival_times[i])\n",
    "            new_wait_time = max(0, new_start_time - self.arrival_times[i])\n",
    "            new_finish_time = new_start_time + self.service_times[i]\n",
    "            next_idle_times[index_server] = new_finish_time\n",
    "            waiting_times.append(new_wait_time)\n",
    "        return waiting_times\n",
    "\n",
    "    def get_waiting_times(self, waiting: list, limit=None):\n",
    "        \"\"\"\n",
    "        Args:\n",
    "            waiting: waiting times of the customers\n",
    "            limit: 2 element list. First element is the start and second element is the end of the interval\n",
    "\n",
    "        Returns: The waiting times for the given limit.\n",
    "                    If limit=None, Then all waiting times are returned for the duration T\n",
    "        \"\"\"\n",
    "        if limit is None:\n",
    "            lower_bound = 0\n",
    "            upper_bound = self.duration\n",
    "        else:\n",
    "            lower_bound = limit[0]\n",
    "            upper_bound = limit[1]\n",
    "        interval = [num for num in self.arrival_times if lower_bound <= num <= upper_bound]\n",
    "        lower_index = self.arrival_times.index(interval[0])\n",
    "        upper_index = self.arrival_times.index(interval[len(interval) - 1])\n",
    "        desired_waiting_times = waiting[lower_index:upper_index + 1]\n",
    "        return desired_waiting_times\n",
    "\n",
    "    def get_arrival_times(self, limit=None):\n",
    "        \"\"\"\n",
    "        Args:\n",
    "            limit: 2 element list. First element is the start and second element is the end of the interval\n",
    "\n",
    "        Returns: Arrival times for customers in the given interval\n",
    "        \"\"\"\n",
    "        if limit is None:\n",
    "            lower_bound = 0\n",
    "            upper_bound = self.duration\n",
    "        else:\n",
    "            lower_bound = limit[0]\n",
    "            upper_bound = limit[1]\n",
    "        interval = [num for num in self.arrival_times if lower_bound <= num <= upper_bound]\n",
    "        return interval\n",
    "\n",
    "\n",
    "class InhomogeneousPoisson(PoissonProcess):\n",
    "\n",
    "    def __init__(self, lambda_function, duration, mu):\n",
    "        \"\"\"\n",
    "        Args:\n",
    "            lambda_function: equation of the time_varying lambda function\n",
    "            duration: Duration of the process\n",
    "        \"\"\"\n",
    "        self.lambda_function = lambda_function\n",
    "        self.duration = duration\n",
    "        self.upper_bound = self.find_upper_bound()\n",
    "        super().__init__(self.upper_bound, self.duration, mu)\n",
    "        self.inhomogeneous_arrivals = self.generate()\n",
    "        self.arrival_times = self.inhomogeneous_arrivals\n",
    "\n",
    "    def find_upper_bound(self):\n",
    "        \"\"\"Returns: Upper bound of the lambda function\"\"\"\n",
    "        x_values = np.linspace(0, self.duration, 1000000)\n",
    "        y_values = self.lambda_function(x_values)\n",
    "        upper_bound = max(y_values) * 1.1\n",
    "        return upper_bound\n",
    "\n",
    "    def generate(self):\n",
    "        \"\"\"\n",
    "        Utilizes the thinning method to simulate time varying poisson process\n",
    "        Returns: The inhomogeneous inter-arrival times\"\"\"\n",
    "        inhomogeneous = []\n",
    "        for arrival in self.arrival_times:\n",
    "            u = np.random.uniform(0, 1, size=1)\n",
    "            if u <= self.lambda_function(arrival) / self.upper_bound:\n",
    "                inhomogeneous.append(arrival)\n",
    "        return inhomogeneous\n",
    "\n",
    "class Queue:\n",
    "\n",
    "    def __init__(self, customers: list, mu):\n",
    "        self.normal_customers: PoissonProcess = customers[0]\n",
    "        self.normal_service_times = list(\n",
    "            np.random.exponential(mu,\n",
    "                                  size=len(self.normal_customers.arrival_times)))\n",
    "        if len(customers) > 1:\n",
    "            self.special_customers: InhomogeneousPoisson = customers[1]\n",
    "            self.special_service_times = list(\n",
    "                np.random.exponential(mu,\n",
    "                                      size=len(self.special_customers.inhomogeneous_arrivals)))\n",
    "    \n",
    "    @staticmethod\n",
    "    def serve(server, arrivals: list, services: list, waiting_times: list):\n",
    "        \"\"\"\n",
    "        Calculates the waiting time for the giving type of customer. Removes the customer's arrival and\n",
    "        service times from the list. Also, calculates the server finish time.\n",
    "        Args:\n",
    "            server: Server finish time for either normal or special server\n",
    "            arrivals: Arrival times of the customers\n",
    "            services: Service times of the customers\n",
    "            waiting_times: Waiting times of the customers\n",
    "\n",
    "        Returns: server finish time, customer arrival times, customer service times, waiting times\n",
    "        \"\"\"\n",
    "        start_time = max(server, arrivals[0])\n",
    "        wait_time = max(0, start_time - arrivals[0])\n",
    "        finish_time = start_time + services[0]\n",
    "        server = finish_time\n",
    "        waiting_times.append(wait_time)\n",
    "        arrivals = arrivals[1:]\n",
    "        services = services[1:]\n",
    "        return server, arrivals, services, waiting_times\n",
    "\n",
    "    def server_simulation(self):\n",
    "        \"\"\"Algorithm to simulate waiting times for both special and normal customers\"\"\"\n",
    "        special_customer_length = len(self.special_customers.inhomogeneous_arrivals)  # number of special customers\n",
    "        normal_customer_length = len(self.normal_customers.arrival_times)  # number of normal customers\n",
    "        normal_arrivals = self.normal_customers.arrival_times  # arrival times of the normal customers\n",
    "        special_arrivals = self.special_customers.inhomogeneous_arrivals  # arrival times of the special customers\n",
    "        normal_services = self.normal_service_times  # service times required for the normal customers\n",
    "        special_services = self.special_service_times  # service times required for the special customers\n",
    "        \n",
    "        # making sure that number of arrivals equal to the number of available service times\n",
    "        assert len(normal_arrivals) == len(normal_services) \n",
    "        assert len(special_arrivals) == len(special_services)\n",
    "\n",
    "        normal_server = 0   # earliest finish time for the normal server\n",
    "        special_server = 0  # earliest finish time for the special server\n",
    "        special_waiting_times = []  # waiting times for the special customers\n",
    "        normal_waiting_times = []  # waiting times for the normal customers\n",
    "\n",
    "        # run until getting all of the waiting times\n",
    "        while len(special_waiting_times) != special_customer_length \\\n",
    "                and len(normal_waiting_times) != normal_customer_length: \n",
    "            \n",
    "            # if there are no more arrivals, stop the algorithm\n",
    "            if len(normal_arrivals) == 0 and len(special_arrivals) == 0:\n",
    "                break\n",
    "            \n",
    "            # if there are only special customers left, second server serves to the special customers\n",
    "            elif len(normal_arrivals) == 0:\n",
    "                special_server, special_arrivals, special_services, special_waiting_times = self.serve(\n",
    "                    special_server, special_arrivals, special_services, special_waiting_times)\n",
    "            \n",
    "            # if there only normal customers left, decide which server are going to serve them\n",
    "            elif len(special_arrivals) == 0:\n",
    "                \n",
    "                # if normal server finishes earlier or at the same time as special server,\n",
    "                # normal server serves to the next normal customer\n",
    "                if normal_server <= special_server:\n",
    "                    normal_server, normal_arrivals, normal_services, normal_waiting_times = self.serve(\n",
    "                        normal_server, normal_arrivals, normal_services, normal_waiting_times)\n",
    "                    \n",
    "                # if special server finishes earlier than the normal server, special server\n",
    "                # serves to the next normal customer\n",
    "                else:\n",
    "                    special_server, normal_arrivals, normal_services, normal_waiting_times = self.serve(\n",
    "                        special_server, normal_arrivals, normal_services, normal_waiting_times)\n",
    "\n",
    "            # If there are still both type of customers\n",
    "            else:   \n",
    "                # if the first normal customer arrives before the first special customer\n",
    "                if normal_arrivals[0] < special_arrivals[0]:\n",
    "\n",
    "                    # if normal server finishes earlier or at the same time as the special server,\n",
    "                    # normal server serves to the next normal customer\n",
    "                    if normal_server <= special_server:\n",
    "                        normal_server, normal_arrivals, normal_services, normal_waiting_times = self.serve(\n",
    "                            normal_server, normal_arrivals, normal_services, normal_waiting_times)\n",
    "                        \n",
    "                    # if special server finishes earlier than the first special customer arrival time,\n",
    "                    # special server will serve to the first normal customer\n",
    "                    elif special_server < special_arrivals[0]:\n",
    "                        special_server, normal_arrivals, normal_services, normal_waiting_times = self.serve(\n",
    "                            special_server, normal_arrivals, normal_services, normal_waiting_times)\n",
    "                    \n",
    "                    # if special server finishes later than the first special customer arrival time,\n",
    "                    # special server will serve to the first special customer\n",
    "                    else:\n",
    "                        special_server, special_arrivals, special_services, special_waiting_times = self.serve(\n",
    "                            special_server, special_arrivals, special_services, special_waiting_times)\n",
    "                \n",
    "                # if the first special customer arrives before or at the same time as the first normal customer,\n",
    "                # special server will serve to the first special customer\n",
    "                else:\n",
    "                    special_server, special_arrivals, special_services, special_waiting_times = self.serve(\n",
    "                        special_server, special_arrivals, special_services, special_waiting_times)\n",
    "\n",
    "        return normal_waiting_times, special_waiting_times\n",
    "    \n",
    "    "
   ]
  },
  {
   "cell_type": "markdown",
   "metadata": {},
   "source": [
    "### *Setting up the time-varying lambda function*"
   ]
  },
  {
   "cell_type": "code",
   "execution_count": 205,
   "metadata": {},
   "outputs": [
    {
     "data": {
      "image/png": "[encoded data removed]",
      "text/plain": [
       "<Figure size 432x288 with 1 Axes>"
      ]
     },
     "metadata": {},
     "output_type": "display_data"
    }
   ],
   "source": [
    "a = 1 / (2 * (120**2))\n",
    "c = 1/2\n",
    "lambda_func = lambda x: a*(x**2) + c # y = a(x-h)**2 + k where (h,k) is the vertex == (0,0.5)\n",
    "values = np.arange(0,121, 1)\n",
    "lst = lambda_func(values)\n",
    "min_val = min(lst)\n",
    "plt.plot(values,lst)\n",
    "plt.title('Time-Varying Lambda Function From 11AM to 1PM')\n",
    "plt.ylabel('Rate')\n",
    "plt.xlabel('Time')\n",
    "plt.show()"
   ]
  },
  {
   "cell_type": "markdown",
   "metadata": {},
   "source": [
    "### *Creating two types of customers: Normal and VIP*\n",
    "For the sake of getting intuitive results, I have created below a visualization to check the number of arrivals for normal and VIP customers."
   ]
  },
  {
   "cell_type": "code",
   "execution_count": 206,
   "metadata": {},
   "outputs": [
    {
     "data": {
      "image/png": "[encoded data removed]",
      "text/plain": [
       "<Figure size 648x432 with 1 Axes>"
      ]
     },
     "metadata": {},
     "output_type": "display_data"
    }
   ],
   "source": [
    "normal_customers = PoissonProcess(lamb=2, duration=120, mu=7/12)\n",
    "vip_customers = InhomogeneousPoisson(lambda_function=lambda_func, duration=120, mu=7/12)\n",
    "\n",
    "plt.figure(figsize=[9,6])\n",
    "length = len(normal_customers.arrival_times)\n",
    "plt.scatter(normal_customers.arrival_times, np.arange(length), c='g', label='Normal Customers')\n",
    "length = len(vip_customers.inhomogeneous_arrivals)\n",
    "plt.scatter(vip_customers.inhomogeneous_arrivals, np.arange(length), c='r', label='Special Customers')\n",
    "plt.legend()\n",
    "plt.xlim(1,125)\n",
    "plt.title('Normal versus Special Customer Arrivals')\n",
    "plt.ylabel('Number of Customers in the System')\n",
    "plt.xlabel('Time')\n",
    "plt.show()"
   ]
  },
  {
   "cell_type": "markdown",
   "metadata": {},
   "source": [
    "### *Part i)*"
   ]
  },
  {
   "cell_type": "code",
   "execution_count": 213,
   "metadata": {
    "pycharm": {
     "name": "#%%\n"
    }
   },
   "outputs": [
    {
     "name": "stdout",
     "output_type": "stream",
     "text": [
      "Out of 50 independent day simulations, expectation of the averaged waiting time\n",
      "for the second stream (VIP Customers) who arrive at food truck between 12:45 PM to 1:00 PM\n",
      "is 1.092016156814008\n"
     ]
    }
   ],
   "source": [
    "waiting_means = []\n",
    "for i in range(50):\n",
    "    normal_customers = PoissonProcess(lamb=2, duration=120, mu=7/12)\n",
    "    vip_customers = InhomogeneousPoisson(lambda_function=lambda_func, duration=120, mu=7/12)\n",
    "    all_customers = [normal_customers, vip_customers]\n",
    "    queue_simulation = Queue(customers=all_customers, mu=7/12)\n",
    "    normal, special = queue_simulation.server_simulation()\n",
    "    waiting_times = vip_customers.get_waiting_times(special, limit=[105,120])\n",
    "    if waiting_times:\n",
    "        waiting_means.append(np.mean(waiting_times))\n",
    "expected_val = np.mean(waiting_means)\n",
    "print('Out of 50 independent day simulations, expectation of the averaged waiting time')\n",
    "print('for the second stream (VIP Customers) who arrive at food truck between 12:45 PM to 1:00 PM')\n",
    "print('is {}'.format(expected_val))\n"
   ]
  },
  {
   "cell_type": "markdown",
   "metadata": {},
   "source": [
    "### *Part ii)*"
   ]
  },
  {
   "cell_type": "code",
   "execution_count": 214,
   "metadata": {
    "pycharm": {
     "name": "#%%\n"
    },
    "scrolled": true
   },
   "outputs": [
    {
     "name": "stdout",
     "output_type": "stream",
     "text": [
      "Out of 50 independent day simulations, expectation of the averaged waiting time\n",
      "for the second stream (VIP Customers) who arrive at food truck between 12:45 PM to 1:00 PM\n",
      "is 1.6020471113807273\n"
     ]
    }
   ],
   "source": [
    "waiting_means = []\n",
    "for i in range(50):\n",
    "    normal_customers = PoissonProcess(lamb=2, duration=120, mu=7/12)\n",
    "    vip_customers = InhomogeneousPoisson(lambda_function=lambda_func, duration=120, mu=7/12)\n",
    "    all_customers = [normal_customers, vip_customers]\n",
    "    queue_simulation = Queue(customers=all_customers, mu=7/12)\n",
    "    normal, special = queue_simulation.server_simulation()\n",
    "    waiting_times = normal_customers.get_waiting_times(normal, limit=[105,120])\n",
    "    if waiting_times:\n",
    "        waiting_means.append(np.mean(waiting_times))\n",
    "expected_val = np.mean(waiting_means)\n",
    "print('Out of 50 independent day simulations, expectation of the averaged waiting time')\n",
    "print('for the second stream (VIP Customers) who arrive at food truck between 12:45 PM to 1:00 PM')\n",
    "print('is {}'.format(expected_val))"
   ]
  },
  {
   "cell_type": "markdown",
   "metadata": {},
   "source": [
    "Compare to the answer we got in Deliverable 2 part b.) ii.), the expected waiting time in this situation is lower because of the fact that now there exists another server. Even though this additional server prioritizes the special customers, it serves to normal customer in the absence of special customers. Therefore, it decreases the accumulation of normal customers in queue; and, hence, decreases the expected waiting time for normal customers during the given interval.  "
   ]
  }
 ],
 "metadata": {
  "kernelspec": {
   "display_name": "Python 3",
   "language": "python",
   "name": "python3"
  },
  "language_info": {
   "codemirror_mode": {
    "name": "ipython",
    "version": 3
   },
   "file_extension": ".py",
   "mimetype": "text/x-python",
   "name": "python",
   "nbconvert_exporter": "python",
   "pygments_lexer": "ipython3",
   "version": "3.8.3"
  }
 },
 "nbformat": 4,
 "nbformat_minor": 4
}
